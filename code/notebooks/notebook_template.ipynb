{
 "cells": [
  {
   "cell_type": "markdown",
   "id": "a7c0130e-e2be-4ccb-86ec-b08c692b3f32",
   "metadata": {},
   "source": [
    "# Project name"
   ]
  },
  {
   "cell_type": "markdown",
   "id": "40d5a165-72eb-4a23-a469-46498087d222",
   "metadata": {},
   "source": [
    "**Author:** Kim Bui\n",
    "\n",
    "**Last modified:** 11-17-24 (created: 11-17-24)\n",
    "\n",
    "**Description:** Short paragraph explanation for the project"
   ]
  },
  {
   "cell_type": "markdown",
   "id": "1679d2f7-838a-47c7-bfdb-a46d37601a46",
   "metadata": {},
   "source": [
    "<br>"
   ]
  },
  {
   "cell_type": "markdown",
   "id": "454f3e7c-48c7-419b-ba90-927dcb3ebeb2",
   "metadata": {},
   "source": [
    "Import Libraries"
   ]
  },
  {
   "cell_type": "code",
   "execution_count": 4,
   "id": "ae2f02f6-8b34-4dea-92d4-2092294e7798",
   "metadata": {},
   "outputs": [],
   "source": [
    "import pandas as pd"
   ]
  },
  {
   "cell_type": "markdown",
   "id": "f1ea0d60-616f-45d0-ac9c-2425582c3f03",
   "metadata": {},
   "source": [
    "Load data:"
   ]
  },
  {
   "cell_type": "code",
   "execution_count": 6,
   "id": "c78d1963-f4ef-4c3e-82a7-404f33f24f3f",
   "metadata": {},
   "outputs": [],
   "source": [
    "# code to read csv file"
   ]
  },
  {
   "cell_type": "code",
   "execution_count": null,
   "id": "ef355750-6910-4b02-8010-17840f8cae48",
   "metadata": {},
   "outputs": [],
   "source": []
  }
 ],
 "metadata": {
  "kernelspec": {
   "display_name": "Python 3 (ipykernel)",
   "language": "python",
   "name": "python3"
  },
  "language_info": {
   "codemirror_mode": {
    "name": "ipython",
    "version": 3
   },
   "file_extension": ".py",
   "mimetype": "text/x-python",
   "name": "python",
   "nbconvert_exporter": "python",
   "pygments_lexer": "ipython3",
   "version": "3.12.2"
  }
 },
 "nbformat": 4,
 "nbformat_minor": 5
}
